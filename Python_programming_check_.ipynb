{
  "nbformat": 4,
  "nbformat_minor": 0,
  "metadata": {
    "colab": {
      "provenance": [],
      "authorship_tag": "ABX9TyPA5R0/JImBN9PGhB+bEC1+",
      "include_colab_link": true
    },
    "kernelspec": {
      "name": "python3",
      "display_name": "Python 3"
    },
    "language_info": {
      "name": "python"
    }
  },
  "cells": [
    {
      "cell_type": "markdown",
      "metadata": {
        "id": "view-in-github",
        "colab_type": "text"
      },
      "source": [
        "<a href=\"https://colab.research.google.com/github/tangkojilelul/Data_science/blob/main/Python_programming_check_.ipynb\" target=\"_parent\"><img src=\"https://colab.research.google.com/assets/colab-badge.svg\" alt=\"Open In Colab\"/></a>"
      ]
    },
    {
      "cell_type": "markdown",
      "source": [
        "**Variable Assignment**"
      ],
      "metadata": {
        "id": "fWBKOed1boeq"
      }
    },
    {
      "cell_type": "code",
      "execution_count": 5,
      "metadata": {
        "colab": {
          "base_uri": "https://localhost:8080/"
        },
        "id": "SfkbqmEyaeXL",
        "outputId": "d67f476b-bc8f-4ea4-82d4-e58d14b1cc9a"
      },
      "outputs": [
        {
          "output_type": "stream",
          "name": "stdout",
          "text": [
            "elia\n",
            "elia\n",
            "50\n"
          ]
        }
      ],
      "source": [
        "# Assign values to variables of different types (integer, float, string, boolean) and print them\n",
        "\n",
        "a = 1 # integer\n",
        "b = 9.5 # float\n",
        "first_name = \"elia\" # string\n",
        "run = True # boolean\n",
        "\n",
        "# Printing\n",
        "\n",
        "print(first_name)\n",
        "print(\"elia\")\n",
        "print(50)\n",
        "\n",
        "\n"
      ]
    },
    {
      "cell_type": "code",
      "source": [
        "a=10\n",
        "b=20\n",
        "print (\"Addition of two integers\")\n",
        "print (\"a =\",a,\"b =\",b,\"addition =\",a+b)"
      ],
      "metadata": {
        "colab": {
          "base_uri": "https://localhost:8080/"
        },
        "id": "ZD_S0XdMf1wr",
        "outputId": "b3e31d50-c8fe-4b27-93fe-98ed92f53b5d"
      },
      "execution_count": 6,
      "outputs": [
        {
          "output_type": "stream",
          "name": "stdout",
          "text": [
            "Addition of two integers\n",
            "a = 10 b = 20 addition = 30\n"
          ]
        }
      ]
    },
    {
      "cell_type": "code",
      "source": [],
      "metadata": {
        "id": "rcvikW6Qf4BB"
      },
      "execution_count": null,
      "outputs": []
    }
  ]
}